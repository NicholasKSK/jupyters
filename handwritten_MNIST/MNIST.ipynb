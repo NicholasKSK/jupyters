{
 "cells": [
  {
   "cell_type": "markdown",
   "metadata": {},
   "source": [
    "# Using MNIST handwritten data to produce a basic Neural network for hand digit recognition#\n",
    "Over time, I will be implementing other neural network architectures in order to practice optimization techniques.\n",
    "The current neural network is a simple sequential neural network using keras with a tensorflow backend. Future plans include implementing dropout and if possible, principal component analysis and singular value decomposition"
   ]
  },
  {
   "cell_type": "code",
   "execution_count": 1,
   "metadata": {},
   "outputs": [
    {
     "data": {
      "text/plain": [
       "'\\ntest_path = \"./mnist_test.csv\"\\ntrain_path = \"./mnist_train.csv\"\\nd0 = pd.read_csv(\"./mnist_train.csv\")\\nd1 = pd.read_csv(test_path)\\n\\n#labelling data\\ntrain_label = d0[\\'label\\'].to_numpy()\\ntrain_data = d0.drop(\\'label\\', axis = 1).to_numpy()\\ntest_label = d1[\\'label\\'].to_numpy()\\ntest_data = d1.drop(\\'label\\', axis = 1).to_numpy()\\n\\n'"
      ]
     },
     "execution_count": 1,
     "metadata": {},
     "output_type": "execute_result"
    }
   ],
   "source": [
    "import tensorflow as tf\n",
    "import matplotlib.pyplot as plt\n",
    "import numpy as np\n",
    "import cv2 as cv\n",
    "\n",
    "mnist = tf.keras.datasets.mnist\n",
    "(x_train, y_train), (x_test, y_test) = mnist.load_data()\n",
    "\n",
    "#Original way of loading the data\n",
    "'''\n",
    "test_path = \"./mnist_test.csv\"\n",
    "train_path = \"./mnist_train.csv\"\n",
    "d0 = pd.read_csv(\"./mnist_train.csv\")\n",
    "d1 = pd.read_csv(test_path)\n",
    "\n",
    "#labelling data\n",
    "train_label = d0['label'].to_numpy()\n",
    "train_data = d0.drop('label', axis = 1).to_numpy()\n",
    "test_label = d1['label'].to_numpy()\n",
    "test_data = d1.drop('label', axis = 1).to_numpy()\n",
    "\n",
    "'''"
   ]
  },
  {
   "cell_type": "code",
   "execution_count": 2,
   "metadata": {},
   "outputs": [
    {
     "name": "stdout",
     "output_type": "stream",
     "text": [
      "(60000, 28, 28)\n",
      "(60000,)\n",
      "(10000, 28, 28)\n",
      "(10000,)\n"
     ]
    }
   ],
   "source": [
    "#Normalizing data \n",
    "x_train = tf.keras.utils.normalize(x_train, axis = 1)\n",
    "x_test = tf.keras.utils.normalize(x_test, axis = 1)\n",
    "print(x_train.shape)\n",
    "print(y_train.shape)\n",
    "print(x_test.shape)\n",
    "print(y_test.shape)"
   ]
  },
  {
   "cell_type": "markdown",
   "metadata": {},
   "source": [
    "# Basic model\n",
    "Architecture:\n",
    "    - Dense 128 layer with relu activation x 2\n",
    "    - 10 output softmax layer x 1\n",
    "    - Adam optimizer\n",
    "    - Categorical_crossentropy loss function (I found this to work better than sparse_categorical_crossentropy)"
   ]
  },
  {
   "cell_type": "code",
   "execution_count": 3,
   "metadata": {},
   "outputs": [],
   "source": [
    "b_model = tf.keras.models.Sequential()\n",
    "b_model.add(tf.keras.layers.Flatten(input_shape = (28,28)))\n",
    "b_model.add(tf.keras.layers.Dense(units = 128, activation = tf.nn.relu)) #all the neurons are connected with the previous layer\n",
    "b_model.add(tf.keras.layers.Dense(units = 128, activation = tf.nn.relu))\n",
    "b_model.add(tf.keras.layers.Dense(units = 10, activation = tf.nn.softmax))"
   ]
  },
  {
   "cell_type": "code",
   "execution_count": 4,
   "metadata": {},
   "outputs": [],
   "source": [
    "b_model.compile(optimizer='adam', loss='categorical_crossentropy', metric=['accuracy'])"
   ]
  },
  {
   "cell_type": "code",
   "execution_count": 5,
   "metadata": {},
   "outputs": [
    {
     "name": "stdout",
     "output_type": "stream",
     "text": [
      "Train on 60000 samples\n",
      "Epoch 1/10\n",
      "60000/60000 [==============================] - 4s 63us/sample - loss: 0.2607\n",
      "Epoch 2/10\n",
      "60000/60000 [==============================] - 3s 49us/sample - loss: 0.1061\n",
      "Epoch 3/10\n",
      "60000/60000 [==============================] - 3s 49us/sample - loss: 0.0736\n",
      "Epoch 4/10\n",
      "60000/60000 [==============================] - 3s 49us/sample - loss: 0.0538\n",
      "Epoch 5/10\n",
      "60000/60000 [==============================] - 3s 49us/sample - loss: 0.0415\n",
      "Epoch 6/10\n",
      "60000/60000 [==============================] - 3s 50us/sample - loss: 0.0319\n",
      "Epoch 7/10\n",
      "60000/60000 [==============================] - 3s 51us/sample - loss: 0.0260\n",
      "Epoch 8/10\n",
      "60000/60000 [==============================] - 3s 51us/sample - loss: 0.0198\n",
      "Epoch 9/10\n",
      "60000/60000 [==============================] - 3s 51us/sample - loss: 0.0188\n",
      "Epoch 10/10\n",
      "60000/60000 [==============================] - 3s 51us/sample - loss: 0.0167\n",
      "WARNING:tensorflow:From C:\\Users\\16466\\miniconda3\\envs\\tensorflow\\lib\\site-packages\\tensorflow_core\\python\\ops\\resource_variable_ops.py:1781: calling BaseResourceVariable.__init__ (from tensorflow.python.ops.resource_variable_ops) with constraint is deprecated and will be removed in a future version.\n",
      "Instructions for updating:\n",
      "If using Keras pass *_constraint arguments to layers.\n",
      "INFO:tensorflow:Assets written to: basic model\\assets\n"
     ]
    }
   ],
   "source": [
    "b_model.fit(x_train, tf.keras.utils.to_categorical(y_train), epochs = 10)\n",
    "\n",
    "b_model.save('basic model')"
   ]
  },
  {
   "cell_type": "markdown",
   "metadata": {},
   "source": [
    "# Tests for the basic network"
   ]
  },
  {
   "cell_type": "code",
   "execution_count": 6,
   "metadata": {},
   "outputs": [
    {
     "name": "stdout",
     "output_type": "stream",
     "text": [
      "Computer guess is a 2\n"
     ]
    },
    {
     "data": {
      "image/png": "[encoded data removed]",
      "text/plain": [
       "<Figure size 432x288 with 1 Axes>"
      ]
     },
     "metadata": {
      "needs_background": "light"
     },
     "output_type": "display_data"
    },
    {
     "name": "stdout",
     "output_type": "stream",
     "text": [
      "Computer guess is a 6\n"
     ]
    },
    {
     "data": {
      "image/png": "[encoded data removed]",
      "text/plain": [
       "<Figure size 432x288 with 1 Axes>"
      ]
     },
     "metadata": {
      "needs_background": "light"
     },
     "output_type": "display_data"
    },
    {
     "name": "stdout",
     "output_type": "stream",
     "text": [
      "Computer guess is a 3\n"
     ]
    },
    {
     "data": {
      "image/png": "[encoded data removed]",
      "text/plain": [
       "<Figure size 432x288 with 1 Axes>"
      ]
     },
     "metadata": {
      "needs_background": "light"
     },
     "output_type": "display_data"
    },
    {
     "name": "stdout",
     "output_type": "stream",
     "text": [
      "Computer guess is a 3\n"
     ]
    },
    {
     "data": {
      "image/png": "[encoded data removed]",
      "text/plain": [
       "<Figure size 432x288 with 1 Axes>"
      ]
     },
     "metadata": {
      "needs_background": "light"
     },
     "output_type": "display_data"
    },
    {
     "name": "stdout",
     "output_type": "stream",
     "text": [
      "Computer guess is a 6\n"
     ]
    },
    {
     "data": {
      "image/png": "[encoded data removed]",
      "text/plain": [
       "<Figure size 432x288 with 1 Axes>"
      ]
     },
     "metadata": {
      "needs_background": "light"
     },
     "output_type": "display_data"
    }
   ],
   "source": [
    "for x in range(1,6):\n",
    "    img = cv.imread(\"{}.png\".format(x))[:,:,0]\n",
    "    img = np.invert(np.array([img]))\n",
    "    prediction = b_model.predict(img)\n",
    "    print(\"Computer guess is a {}\".format(np.argmax(prediction)))\n",
    "    plt.imshow(img[0], cmap = plt.cm.binary)\n",
    "    plt.show()"
   ]
  },
  {
   "cell_type": "markdown",
   "metadata": {},
   "source": [
    "The predictions up above show a rather inaccurate estimate. The computer tends to get mixed up between 8's and 3's, 5's and 6's. However when put against the test cases, the network does very well. Below shows the predictions when put against the test cases. You can adjust the number of test cases you want to compare it with to see accuracy over a larger group of numbers."
   ]
  },
  {
   "cell_type": "code",
   "execution_count": 15,
   "metadata": {},
   "outputs": [
    {
     "name": "stdout",
     "output_type": "stream",
     "text": [
      "Predicted:      [7 2 1 0 4 1 4 9 5 9 0 6 9 0 1 5 9 7 3 4]\n",
      "True y labels:  [7 2 1 0 4 1 4 9 5 9 0 6 9 0 1 5 9 7 3 4]\n"
     ]
    }
   ],
   "source": [
    "num_to_test = 20\n",
    "\n",
    "predictions = b_model.predict(x_test[:num_to_test])\n",
    "\n",
    "print(\"Predicted:     \", np.argmax(predictions, axis=1))\n",
    "print(\"True y labels: \", y_test[:num_to_test])"
   ]
  },
  {
   "cell_type": "code",
   "execution_count": 16,
   "metadata": {},
   "outputs": [
    {
     "data": {
      "image/png": "[encoded data removed]",
      "text/plain": [
       "<Figure size 432x288 with 1 Axes>"
      ]
     },
     "metadata": {
      "needs_background": "light"
     },
     "output_type": "display_data"
    },
    {
     "data": {
      "image/png": "[encoded data removed]",
      "text/plain": [
       "<Figure size 432x288 with 1 Axes>"
      ]
     },
     "metadata": {
      "needs_background": "light"
     },
     "output_type": "display_data"
    },
    {
     "data": {
      "image/png": "[encoded data removed]",
      "text/plain": [
       "<Figure size 432x288 with 1 Axes>"
      ]
     },
     "metadata": {
      "needs_background": "light"
     },
     "output_type": "display_data"
    },
    {
     "data": {
      "image/png": "[encoded data removed]",
      "text/plain": [
       "<Figure size 432x288 with 1 Axes>"
      ]
     },
     "metadata": {
      "needs_background": "light"
     },
     "output_type": "display_data"
    },
    {
     "data": {
      "image/png": "[encoded data removed]",
      "text/plain": [
       "<Figure size 432x288 with 1 Axes>"
      ]
     },
     "metadata": {
      "needs_background": "light"
     },
     "output_type": "display_data"
    }
   ],
   "source": [
    "for i in range(5):\n",
    "    first_image = x_test[i]\n",
    "    first_image = np.array(first_image, dtype='float')\n",
    "    pixels = first_image.reshape((28,28))\n",
    "    plt.imshow(pixels)\n",
    "    plt.show()"
   ]
  },
  {
   "cell_type": "code",
   "execution_count": null,
   "metadata": {},
   "outputs": [],
   "source": []
  }
 ],
 "metadata": {
  "kernelspec": {
   "display_name": "Python 3.7 (tensorflow)",
   "language": "python",
   "name": "tensorflow"
  },
  "language_info": {
   "codemirror_mode": {
    "name": "ipython",
    "version": 3
   },
   "file_extension": ".py",
   "mimetype": "text/x-python",
   "name": "python",
   "nbconvert_exporter": "python",
   "pygments_lexer": "ipython3",
   "version": "3.7.7"
  }
 },
 "nbformat": 4,
 "nbformat_minor": 4
}
